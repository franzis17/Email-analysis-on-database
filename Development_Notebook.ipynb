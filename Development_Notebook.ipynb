{
  "nbformat": 4,
  "nbformat_minor": 0,
  "metadata": {
    "colab": {
      "provenance": [],
      "mount_file_id": "https://github.com/franzis17/EnronEmailAnalysis/blob/main/Development_Notebook.ipynb",
      "authorship_tag": "ABX9TyPrjLKvbh+4IFmW+lsUH1vf",
      "include_colab_link": true
    },
    "kernelspec": {
      "name": "python3",
      "display_name": "Python 3"
    },
    "language_info": {
      "name": "python"
    }
  },
  "cells": [
    {
      "cell_type": "markdown",
      "metadata": {
        "id": "view-in-github",
        "colab_type": "text"
      },
      "source": [
        "<a href=\"https://colab.research.google.com/github/franzis17/EnronEmailAnalysis/blob/main/Development_Notebook.ipynb\" target=\"_parent\"><img src=\"https://colab.research.google.com/assets/colab-badge.svg\" alt=\"Open In Colab\"/></a>"
      ]
    },
    {
      "cell_type": "markdown",
      "source": [
        "# Importing Packages"
      ],
      "metadata": {
        "id": "WMsWA3DPXpLN"
      }
    },
    {
      "cell_type": "markdown",
      "source": [
        "## Initialise all packages needed in the program\n",
        "Packages used:\n",
        "* calendar --> \n",
        "* matplotlib --> for visualisation purposes. Plot the data in to some kind of a chart.\n",
        "* pandas --> for efficiently sorting different kinds of data (i.e. sorting messages data in a monthly order)\n",
        "* sqlite3 --> for extracting data in the database and perform 3 different kinds of analysis on the data"
      ],
      "metadata": {
        "id": "iMtdknSxTSZD"
      }
    },
    {
      "cell_type": "code",
      "source": [
        "import calendar\n",
        "import matplotlib.pyplot as plt\n",
        "import pandas as pd\n",
        "import re  # regular expression\n",
        "import sqlite3\n",
        "from wordcloud import WordCloud\n",
        "\n",
        "# Generate Stopwords\n",
        "from google.colab import output\n",
        "!curl -Ol https://raw.githubusercontent.com/michael-borck/isys2001-worksheets/main/stopwords.py\n",
        "output.clear()\n",
        "print(\"Required packages installed\")"
      ],
      "metadata": {
        "id": "ru8tgXfbJK7W"
      },
      "execution_count": null,
      "outputs": []
    },
    {
      "cell_type": "markdown",
      "source": [
        "## Connect to the database\n"
      ],
      "metadata": {
        "id": "5vcgCEyTTL4F"
      }
    },
    {
      "cell_type": "code",
      "source": [
        "# Connect to the database using 'sqlite3'\n",
        "conn = sqlite3.connect('/content/drive/MyDrive/a-quick_uploads/enron.db')\n",
        "\n",
        "# Create a cursor to navigate each rows in the database and query any specific data from the dataset\n",
        "cur = conn.cursor()"
      ],
      "metadata": {
        "id": "uImR3m_STQM9"
      },
      "execution_count": null,
      "outputs": []
    },
    {
      "cell_type": "markdown",
      "source": [
        "# Functions\n",
        "\n",
        "* MUST run the following functions before any analysis.\n",
        "* The functions below are modules, which is used by multiple analysis methods to decrease code repetition."
      ],
      "metadata": {
        "id": "EvctzwGmwIo-"
      }
    },
    {
      "cell_type": "code",
      "source": [
        "def query_db_for_messages():\n",
        "    # Query database for all messages and returns a dataframe containing all messages\n",
        "    sql='''\n",
        "    SELECT * FROM message\n",
        "    '''\n",
        "    return pd.read_sql(sql, conn)\n",
        "\n",
        "def query_db_for_employees():\n",
        "    sql='''\n",
        "    SELECT * FROM employeelist\n",
        "    '''\n",
        "    return pd.read_sql(sql, conn)"
      ],
      "metadata": {
        "id": "LaPDlDZSxIVx"
      },
      "execution_count": null,
      "outputs": []
    },
    {
      "cell_type": "markdown",
      "source": [
        "# <u>**Analysis 1.**</u> Email Traffic Over Time\n",
        "\n",
        "Aim: Analyze the volume of emails sent over time by counting the number of messages of each employees sent per month.\n",
        "\n",
        "## **Problem:**\n",
        "* Must count the total number of messages of all employees they are sending per month.\n",
        "\n",
        "## **Inputs:**\n",
        "* List of messages\n",
        "\n",
        "## **Outputs:**\n",
        "* A line chart that shows the number of emails per month. (x = month, y = number of emails(messages))\n",
        "\n",
        "## **Algorithm:**\n",
        "  1. Create a dataframe based on an SQL statement that obtains all messages from the database table \"message\".\n",
        "  2. Using the \"message\" dataframe, use the total amount of messages of the dataframe to sort the data monthly.\n",
        "  3. Using the monthly-sorted messages data, create a line chart that shows the total amount of messages per month.\n",
        "\n",
        "* **Important**: Must close the connection to the SQLite Database when done with the database.\n",
        "\n",
        "## **Python Implementation:**"
      ],
      "metadata": {
        "id": "m3OnRw7ZU3WX"
      }
    },
    {
      "cell_type": "code",
      "source": [
        "'''\n",
        "Note:\n",
        "> Lines 12 to 21 were generated by ChatGPT. More info on reference list [ChatGPT-1]\n",
        "'''\n",
        "\n",
        "messages_df = query_db_for_messages()\n",
        "\n",
        "# Make a new month table to group each messages by year\n",
        "messages_df['date'] = pd.to_datetime(messages_df['date'], errors='coerce')\n",
        "messages_df['year'] = messages_df['date'].dt.year\n",
        "messages_per_year = messages_df.groupby('year').size()\n",
        "\n",
        "messages_per_year.plot(kind='line', marker='o')\n",
        "plt.xlabel('Year')\n",
        "plt.ylabel('Number of messages per year')\n",
        "plt.title('Total Number of Messages Per Year')\n",
        "plt.show()"
      ],
      "metadata": {
        "id": "pBmHTDdaUKFh"
      },
      "execution_count": null,
      "outputs": []
    },
    {
      "cell_type": "markdown",
      "source": [
        "# **Analysis 2.** Top Senders and Receivers\n",
        "Aim: Identify the most frequent email senders and recipients by aggregating(collecting) the data in the 'Message' and 'RecipientInfo' tables.\n",
        "\n",
        "## **Problems:**\n",
        "* Must find the most frequent email senders\n",
        "* Must find the most frequent email receivers\n",
        "\n",
        "## **Inputs:**\n",
        "* Dataset of all senders from the \"message\" database table\n",
        "* Dataset of all receivers from the \"recipientinfo\" database table\n",
        "\n",
        "## **Outputs:**\n",
        "* A set of all the most frequent email senders\n",
        "* A set of all the most frequent email receivers\n",
        "\n",
        "## **Algorithm:**\n",
        "\n",
        "Finding the most frequent email <b>senders</b>:\n",
        "1. Get all the messages from the database\n",
        "2. Compute which \"sender\" has the most count and put it all on a data set sorted from highest to lowest email sent\n",
        "3. Using the sorted data set, plot it all on a bar chart with: x = a number of emails and y = employee names\n",
        "\n",
        "Finding the most frequent email <b>receivers</b>:\n",
        "1. Get all the recepientinfo dataset from the database\n",
        "2. Compute which \"recepient\" has the most count and put it all on a data set sorted from highest to lowest received email\n",
        "3. Using the sorted data set, plot it all on a bar chart with: x = number of emails and y = employee name\n",
        "\n",
        "## **Python Implementation:**"
      ],
      "metadata": {
        "id": "gqK2cwiRIg-r"
      }
    },
    {
      "cell_type": "code",
      "source": [
        "# Obtain all messages from the database\n",
        "messages_df = query_db_for_messages()\n",
        "employees_df = query_db_for_employees()\n",
        "\n",
        "### sender_counts are a set of email, now find the name of the employee based on these email set\n",
        "\n",
        "merged_df = messages_df.merge(employees_df, left_on='sender', right_on='Email_id', how='right')\n",
        "\n",
        "# Combine firstName and lastName to full name\n",
        "merged_df['fullName'] = merged_df['firstName'] + ' ' + merged_df['lastName']\n",
        "employee_counts = merged_df['fullName'].value_counts()\n",
        "top_employees = employee_counts.head(10)\n",
        "\n",
        "# Plot to Bar Chart\n",
        "top_employees.sort_values(ascending=True).plot(kind='barh')\n",
        "plt.xlabel('Employee')\n",
        "plt.ylabel('Occurrence Count')\n",
        "plt.title('Top 10 Email Senders')\n",
        "plt.show()"
      ],
      "metadata": {
        "id": "QOjMnqDjJQLY",
        "colab": {
          "base_uri": "https://localhost:8080/",
          "height": 472
        },
        "outputId": "a897c46d-4873-4123-ada5-c411415f3bbc"
      },
      "execution_count": 91,
      "outputs": [
        {
          "output_type": "display_data",
          "data": {
            "text/plain": [
              "<Figure size 640x480 with 1 Axes>"
            ],
            "image/png": "[encoded data removed]"
          },
          "metadata": {}
        }
      ]
    },
    {
      "cell_type": "code",
      "source": [],
      "metadata": {
        "id": "Gi3yJcm0FEcR"
      },
      "execution_count": null,
      "outputs": []
    },
    {
      "cell_type": "markdown",
      "source": [
        "# **Analysis 3.** Subject Keyword Analysis\n",
        "Aim: Extract keywords from email subjects in the 'Message' table and analyze the frequency of words used to understand common topics of discussion."
      ],
      "metadata": {
        "id": "U1wMUWk_JS8F"
      }
    },
    {
      "cell_type": "markdown",
      "source": [
        "## Problem:\n",
        "\n",
        "* Must understand the common topics of discussion from the dataset of 'Message' table to see if it is related to any potential fraudulent activities.\n",
        "\n",
        "## Inputs:\n",
        "\n",
        "* List of words from the subject section of all email email messages. (database table located in message.subject)\n",
        "\n",
        "## Outputs:\n",
        "\n",
        "* WordCloud that shows the most common words used in the subject section of the email with. (Frequency of words depends on the size, i.e. large-sized words are most frequently used and smaller-sized are less frequent.)\n",
        "\n",
        "# Algorithm:\n",
        "  1. Extract all dataset of 'Message' table.\n",
        "  2. Clean the 'subject' contents of the message dataset to only contain absolute words (words must not contain any symbols/numbers)\n",
        "  3. Generate list of stop words called \"ENGLISH_STOP_WORDS\" from Stopwords.py, which is a list of words that do not provide much meaning to the analysis.\n",
        "  4. Create a WordCloud using the \"Cleaned-subject\" list of words."
      ],
      "metadata": {
        "id": "hyxSeAVeixDP"
      }
    },
    {
      "cell_type": "code",
      "source": [
        "from stopwords import ENGLISH_STOP_WORDS\n",
        "\n",
        "# Ref. [2]\n",
        "def clean(text):\n",
        "    ''' Uses regular expresison to extract english letter and digits from the supplied text. '''\n",
        "    regExp = \"(@[A-Za-z0-9]+)|([^0-9A-Za-z \\t])|(\\w+:\\/\\/\\S+)\"\n",
        "    return ' '.join(re.sub(regExp, \" \", text).split())\n",
        "\n",
        "\n",
        "# no need to extract messages from the database assuming it has been extracted from Analysis 1\n",
        "\n",
        "# Create a new column as a placeholder for the clean subject keywords\n",
        "messages_df['Clean Subject'] = messages_df['subject'].apply(clean)\n",
        "\n",
        "# Add additional words to stopwords that do not have much meaning\n",
        "additional_stop_words = {'Enron', 'Market', 'Power'}\n",
        "ENGLISH_STOP_WORDS.update(additional_stop_words)\n",
        "\n",
        "# Create and Display the wordcloud\n",
        "subjects = ' '.join(messages_df['Clean Subject'])\n",
        "wordcloud = WordCloud(width=680, height=480, margin=0, stopwords=ENGLISH_STOP_WORDS).generate(subjects)\n",
        "plt.imshow(wordcloud, interpolation='bilinear')\n",
        "plt.axis('off')\n",
        "plt.margins(x=0, y=0)\n",
        "plt.show()"
      ],
      "metadata": {
        "id": "cCvRMSbmJnUo"
      },
      "execution_count": null,
      "outputs": []
    },
    {
      "cell_type": "markdown",
      "source": [
        "# Miscellaneous Database Operations (Not a part of Analysis)\n",
        "Purpose = to get details about the database\n"
      ],
      "metadata": {
        "id": "FEcJSULHZibR"
      }
    },
    {
      "cell_type": "markdown",
      "source": [
        "### View Database Schema\n",
        "In other words ==> View the all database tables existing in the database"
      ],
      "metadata": {
        "id": "ZFLJ77cqSjDJ"
      }
    },
    {
      "cell_type": "code",
      "source": [
        "sql='''\n",
        "SELECT name FROM sqlite_master WHERE type='table';\n",
        "'''\n",
        "cur.execute(sql)\n",
        "cur.fetchall()"
      ],
      "metadata": {
        "id": "8BIg7PFhSoVY"
      },
      "execution_count": null,
      "outputs": []
    },
    {
      "cell_type": "markdown",
      "source": [
        "### View contents of a database table"
      ],
      "metadata": {
        "id": "xtExz5z4HKwq"
      }
    },
    {
      "cell_type": "code",
      "source": [
        "# Get all messages\n",
        "sql='''\n",
        "SELECT * FROM message\n",
        "'''\n",
        "messages_df = pd.read_sql(sql, conn)\n",
        "\n",
        "# Sort the date to monthly amount of messages in the year 2000\n",
        "idx = pd.date_range(start='2000', end='2001', freq='M')\n",
        "ts = pd.Series(range(len(idx)), index=idx)\n",
        "messages_df\n",
        "# must have a way to get the frequency of messages per month"
      ],
      "metadata": {
        "id": "4Xg6IdmsHOK0"
      },
      "execution_count": null,
      "outputs": []
    },
    {
      "cell_type": "markdown",
      "source": [
        "## Close the connection to the database\n",
        "**Note:** Use when done with the database"
      ],
      "metadata": {
        "id": "EbyUoKHUSTjm"
      }
    },
    {
      "cell_type": "code",
      "source": [
        "conn.close()"
      ],
      "metadata": {
        "id": "yFtcf17gSbvo"
      },
      "execution_count": null,
      "outputs": []
    },
    {
      "cell_type": "markdown",
      "source": [
        "# Reference List\n",
        "\n",
        "* [1] https://pandas.pydata.org/docs/user_guide/10min.html#plotting\n",
        "* [2] Clean function obtained from WK-9 tutorial and is used to remove symbols and numbers from words.\n",
        "\n",
        "**ChatGPT**\n",
        "* [1]\n",
        "  * Purpose: To plot the frequency of messages per month to a line chart\n",
        "  * Prompt: how can I use pandas package in python to plot the frequency of messages per month in a year, given the messages data are in a dataframe."
      ],
      "metadata": {
        "id": "KTd19qCDZV9g"
      }
    }
  ]
}