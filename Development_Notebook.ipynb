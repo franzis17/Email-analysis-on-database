{
  "nbformat": 4,
  "nbformat_minor": 0,
  "metadata": {
    "colab": {
      "provenance": [],
      "authorship_tag": "ABX9TyMWzhqiQefqRtkchu1sNem1",
      "include_colab_link": true
    },
    "kernelspec": {
      "name": "python3",
      "display_name": "Python 3"
    },
    "language_info": {
      "name": "python"
    }
  },
  "cells": [
    {
      "cell_type": "markdown",
      "metadata": {
        "id": "view-in-github",
        "colab_type": "text"
      },
      "source": [
        "<a href=\"https://colab.research.google.com/github/franzis17/EnronEmailAnalysis/blob/main/Development_Notebook.ipynb\" target=\"_parent\"><img src=\"https://colab.research.google.com/assets/colab-badge.svg\" alt=\"Open In Colab\"/></a>"
      ]
    },
    {
      "cell_type": "markdown",
      "source": [
        "# Importing Packages"
      ],
      "metadata": {
        "id": "WMsWA3DPXpLN"
      }
    },
    {
      "cell_type": "markdown",
      "source": [
        "## Initialise SQLite3\n",
        "\n",
        "Initialise by:\n",
        "\n",
        "* Importing the package\n",
        "* Creating a connection to the database\n",
        "* Creating a cursor to navigate through each data in the database"
      ],
      "metadata": {
        "id": "iMtdknSxTSZD"
      }
    },
    {
      "cell_type": "code",
      "source": [
        "import sqlite3\n",
        "\n",
        "# Connect to the database using 'sqlite3'\n",
        "conn = sqlite3.connect('extract.db')\n",
        "\n",
        "# Create a cursor to navigate each rows in the database and query any specific data from the dataset\n",
        "cur = conn.cursor()"
      ],
      "metadata": {
        "id": "ru8tgXfbJK7W"
      },
      "execution_count": null,
      "outputs": []
    },
    {
      "cell_type": "markdown",
      "source": [
        "## Initialise Pandas\n",
        "\n",
        "* Purpose of Pandas = Neatly query the database and is used to create different visualisations"
      ],
      "metadata": {
        "id": "klrX8cafVKmB"
      }
    },
    {
      "cell_type": "code",
      "source": [
        "import pandas as pd"
      ],
      "metadata": {
        "id": "4m2eOwN_VZGw"
      },
      "execution_count": null,
      "outputs": []
    },
    {
      "cell_type": "markdown",
      "source": [
        "## Initialise Matplotlib\n",
        "\n",
        "* Purpose of Matplotlib = To create charts for visualising the data by plotting the data extracted from the database"
      ],
      "metadata": {
        "id": "jvyG9e0fXxT4"
      }
    },
    {
      "cell_type": "code",
      "source": [
        "import matplotlib.pyplot as plt"
      ],
      "metadata": {
        "id": "Pg8Sml-_YKMF"
      },
      "execution_count": null,
      "outputs": []
    },
    {
      "cell_type": "markdown",
      "source": [
        "# **Analysis 1.** Email Traffic Over Time\n",
        "\n",
        "Aim: Analyze the volume of emails sent over time by counting the number of messages of each employees sent per month."
      ],
      "metadata": {
        "id": "m3OnRw7ZU3WX"
      }
    },
    {
      "cell_type": "markdown",
      "source": [
        "## Problem:\n",
        "\n",
        "* Must count the total number of messages of all employees they are sending per month.\n",
        "  * Each employees contains messages, which needs to be counted.\n",
        "\n",
        "## Inputs:\n",
        "\n",
        "* List of messages\n",
        "\n",
        "## Outputs:\n",
        "\n",
        "* A line chart that shows the number of emails per month. (x = month, y = number of emails(messages))\n",
        "\n",
        "# Algorithm:\n",
        "\n",
        "* **Activity 1**: Obtaining \"Message\" data from the database:\n",
        "  1. Create a SQL statement that obtains all messages from the database table \"message\"\n",
        "  2. Execute and commit the SQL statement\n",
        "* **Activity 2**: Using the data obtained, plot a line chart that sets x = month, y = number of emails. The line chart will show the number of messages (y --> up or down) per month (x --> left = earliest month AND right = most recent month)\n",
        "\n",
        "* **Last Activity**: Close the connection to the SQLite Database\n",
        "\n"
      ],
      "metadata": {
        "id": "a73tKIrEKI5z"
      }
    },
    {
      "cell_type": "markdown",
      "source": [
        "## Python Implementation:"
      ],
      "metadata": {
        "id": "pEV6u4RbJtVA"
      }
    },
    {
      "cell_type": "markdown",
      "source": [
        "### **Activity 1**: Obtain all \"messages\" from the \"message\" table of the database"
      ],
      "metadata": {
        "id": "5iu6CCwYTvnw"
      }
    },
    {
      "cell_type": "code",
      "source": [
        "sql='''\n",
        "SELECT * FROM message\n",
        "'''\n",
        "\n",
        "messages_df = pd.read_sql(sql, conn)"
      ],
      "metadata": {
        "id": "pBmHTDdaUKFh"
      },
      "execution_count": null,
      "outputs": []
    },
    {
      "cell_type": "markdown",
      "source": [
        "# **Analysis 2.** Top Senders and Receivers\n",
        "Aim: Identify the most frequent email senders and recipients by aggregating(collecting) the data in the 'Message' and 'RecepientInfo' tables."
      ],
      "metadata": {
        "id": "gqK2cwiRIg-r"
      }
    },
    {
      "cell_type": "code",
      "source": [],
      "metadata": {
        "id": "QOjMnqDjJQLY"
      },
      "execution_count": null,
      "outputs": []
    },
    {
      "cell_type": "markdown",
      "source": [
        "# **Analysis 3.** Subject Keyword Analysis\n",
        "Aim: Extract keywords from email subjects in the 'Message' table and analyze the frequency of words used to understand common topics of discussion."
      ],
      "metadata": {
        "id": "U1wMUWk_JS8F"
      }
    },
    {
      "cell_type": "code",
      "source": [],
      "metadata": {
        "id": "cCvRMSbmJnUo"
      },
      "execution_count": null,
      "outputs": []
    },
    {
      "cell_type": "markdown",
      "source": [
        "# Miscellaneous Database Operations (Not a part of Analysis)\n",
        "Purpose = to get details about the database\n"
      ],
      "metadata": {
        "id": "FEcJSULHZibR"
      }
    },
    {
      "cell_type": "markdown",
      "source": [
        "### View Database Schema\n",
        "In other words ==> View the all database tables existing in the database"
      ],
      "metadata": {
        "id": "ZFLJ77cqSjDJ"
      }
    },
    {
      "cell_type": "code",
      "source": [
        "sql='''\n",
        "SELECT name FROM sqlite_master WHERE type='table';\n",
        "'''\n",
        "cur.execute(sql)\n",
        "cur.fetchall()"
      ],
      "metadata": {
        "id": "8BIg7PFhSoVY"
      },
      "execution_count": null,
      "outputs": []
    },
    {
      "cell_type": "markdown",
      "source": [
        "# Close the connection"
      ],
      "metadata": {
        "id": "EbyUoKHUSTjm"
      }
    },
    {
      "cell_type": "code",
      "source": [
        "conn.close()"
      ],
      "metadata": {
        "id": "yFtcf17gSbvo"
      },
      "execution_count": null,
      "outputs": []
    },
    {
      "cell_type": "markdown",
      "source": [
        "# Reference List\n",
        "\n",
        "[1] https://pandas.pydata.org/docs/user_guide/10min.html#plotting"
      ],
      "metadata": {
        "id": "KTd19qCDZV9g"
      }
    }
  ]
}