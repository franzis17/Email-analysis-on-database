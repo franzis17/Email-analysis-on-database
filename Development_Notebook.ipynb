{
  "nbformat": 4,
  "nbformat_minor": 0,
  "metadata": {
    "colab": {
      "provenance": [],
      "authorship_tag": "ABX9TyNUiwZ/uLReU7QkccTY+VIi",
      "include_colab_link": true
    },
    "kernelspec": {
      "name": "python3",
      "display_name": "Python 3"
    },
    "language_info": {
      "name": "python"
    }
  },
  "cells": [
    {
      "cell_type": "markdown",
      "metadata": {
        "id": "view-in-github",
        "colab_type": "text"
      },
      "source": [
        "<a href=\"https://colab.research.google.com/github/franzis17/EnronEmailAnalysis/blob/main/Development_Notebook.ipynb\" target=\"_parent\"><img src=\"https://colab.research.google.com/assets/colab-badge.svg\" alt=\"Open In Colab\"/></a>"
      ]
    },
    {
      "cell_type": "markdown",
      "source": [
        "# 1. Email Traffic Over Time\n",
        "\n",
        "Aim: Analyze the volume of emails sent over time by counting the number of messages of each employees sent per month."
      ],
      "metadata": {
        "id": "m3OnRw7ZU3WX"
      }
    },
    {
      "cell_type": "markdown",
      "source": [
        "## Problem:\n",
        "\n",
        "* Must count the total number of messages of all employees they are sending per month.\n",
        "  * Each employees contains messages, which needs to be counted.\n",
        "\n",
        "## Inputs:\n",
        "\n",
        "* List of messages\n",
        "\n",
        "## Outputs:\n",
        "\n",
        "* A line chart that shows the number of emails per month. (x = month, y = number of emails(messages))\n",
        "\n",
        "# Algorithm:\n",
        "\n",
        "* \n",
        "\n"
      ],
      "metadata": {
        "id": "a73tKIrEKI5z"
      }
    },
    {
      "cell_type": "markdown",
      "source": [
        "## Pseudocode:"
      ],
      "metadata": {
        "id": "7G54YxejJpaQ"
      }
    },
    {
      "cell_type": "code",
      "source": [],
      "metadata": {
        "id": "aTFh9lqpIbsN"
      },
      "execution_count": null,
      "outputs": []
    },
    {
      "cell_type": "markdown",
      "source": [
        "## Algorithm:"
      ],
      "metadata": {
        "id": "pEV6u4RbJtVA"
      }
    },
    {
      "cell_type": "markdown",
      "source": [
        "# 2. Top Senders and Receivers\n",
        "Aim: Identify the most frequent email senders and recipients by aggregating(collecting) the data in the 'Message' and 'RecepientInfo' tables."
      ],
      "metadata": {
        "id": "gqK2cwiRIg-r"
      }
    },
    {
      "cell_type": "code",
      "source": [],
      "metadata": {
        "id": "QOjMnqDjJQLY"
      },
      "execution_count": null,
      "outputs": []
    },
    {
      "cell_type": "markdown",
      "source": [
        "# 3. Subject Keyword Analysis\n",
        "Aim: Extract keywords from email subjects in the 'Message' table and analyze the frequency of words used to understand common topics of discussion."
      ],
      "metadata": {
        "id": "U1wMUWk_JS8F"
      }
    },
    {
      "cell_type": "code",
      "source": [],
      "metadata": {
        "id": "cCvRMSbmJnUo"
      },
      "execution_count": null,
      "outputs": []
    }
  ]
}