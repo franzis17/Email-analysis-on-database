{
  "nbformat": 4,
  "nbformat_minor": 0,
  "metadata": {
    "colab": {
      "provenance": [],
      "mount_file_id": "https://github.com/franzis17/EnronEmailAnalysis/blob/main/Business_Report.ipynb",
      "authorship_tag": "ABX9TyNSnnWiPZortAsegSP7aizk",
      "include_colab_link": true
    },
    "kernelspec": {
      "name": "python3",
      "display_name": "Python 3"
    },
    "language_info": {
      "name": "python"
    }
  },
  "cells": [
    {
      "cell_type": "markdown",
      "metadata": {
        "id": "view-in-github",
        "colab_type": "text"
      },
      "source": [
        "<a href=\"https://colab.research.google.com/github/franzis17/EnronEmailAnalysis/blob/main/Business_Report.ipynb\" target=\"_parent\"><img src=\"https://colab.research.google.com/assets/colab-badge.svg\" alt=\"Open In Colab\"/></a>"
      ]
    },
    {
      "cell_type": "markdown",
      "source": [
        "# <b>Introduction</b>\n",
        "\n",
        "The Enron Corporation is a company based in America that provides energy, services, and commodity. Due to fraudulent accounting practices and financial scandals, Enron is notorious for corporate fraud and was exposed in 2001.\n",
        "\n",
        "This report aims to discover potential topics of interest and patterns of communication, in relation to the fraudulent activities that Enron did, by analysing the volume of email over time, Top 20 email senders and email receivers, and analysing email subject keywords.\n",
        "\n",
        "## <b>Assessment Objective</b>\n",
        "The objective of this assessment is to understand SQLite databases, data exploration, data visualisation, and to apply industry best practices in programming by analysing the Enron Email dataset using Python in Google Colab notebooks."
      ],
      "metadata": {
        "id": "kx7ON1uwy0FJ"
      }
    },
    {
      "cell_type": "markdown",
      "source": [
        "# <b>Program Initialisation</b>\n",
        "\n",
        "<b>IMPORTANT:</b> Must do the following before running any analysis"
      ],
      "metadata": {
        "id": "0XsnpCAlnqZb"
      }
    },
    {
      "cell_type": "markdown",
      "source": [
        "## <b>Source of data</b>\n",
        "\n",
        "Upload the Database/Dataset.<br>\n",
        "<b>Note:</b> Must select 1 option out of the 3 options of obtaining the Dataset\n",
        "1. Download the Full/Complete Dataset by running the first code below and uploading to the Notebook\n",
        "2. Download the Extract/Partial Dataset by running the second code below and uploading to the Notebook\n",
        "3. Mount Google Drive: Once the Full dataset has been downloaded, upload the Dataset to your Google Drive and connect to your Google Drive instead of repeatedly uploading the Full/Complete Dataset."
      ],
      "metadata": {
        "id": "R03EXawDlFHa"
      }
    },
    {
      "cell_type": "code",
      "source": [
        "# Download the Complete Enron Email Database\n",
        "!wget -O enron.db https://curtin-my.sharepoint.com/:u:/g/personal/211934g_curtin_edu_au/EaYagsqa2r1Bi5wtHbswGFwBH2kd2uTnz6rlka7GI36GUQ?dow"
      ],
      "metadata": {
        "id": "uihVYa5Snie0"
      },
      "execution_count": null,
      "outputs": []
    },
    {
      "cell_type": "code",
      "source": [
        "# Download the Extract of Enron Email Database\n",
        "!wget -O extract.db https://curtin-my.sharepoint.com/:u:/g/personal/211934g_curtin_edu_au/EbNeFqkc_g1EmQZzAKqc_w8BYeUTUVyexiSsmDbZb1EqAQ?download=1"
      ],
      "metadata": {
        "id": "VivLhkdIniwp"
      },
      "execution_count": null,
      "outputs": []
    },
    {
      "cell_type": "code",
      "source": [
        "# If database is stored in your Google Drive\n",
        "from google.colab import drive\n",
        "drive.mount('/content/drive')"
      ],
      "metadata": {
        "id": "FGuw78C2njCc"
      },
      "execution_count": null,
      "outputs": []
    },
    {
      "cell_type": "markdown",
      "source": [
        "## <b>Initialise all packages needed in the program</b>\n",
        "<b>Note:</b> The Development notebook contains the purposes of why each packages were used.\n",
        "\n"
      ],
      "metadata": {
        "id": "qHThh5d3St-O"
      }
    },
    {
      "cell_type": "code",
      "source": [
        "import calendar\n",
        "import matplotlib.pyplot as plt\n",
        "import pandas as pd\n",
        "import re  # regular expression\n",
        "import sqlite3\n",
        "from wordcloud import WordCloud\n",
        "\n",
        "# Generate Stopwords - Obtained from Ref[2]\n",
        "from google.colab import output\n",
        "!curl -Ol https://raw.githubusercontent.com/michael-borck/isys2001-worksheets/main/stopwords.py\n",
        "output.clear()\n",
        "print(\"Required packages installed\")"
      ],
      "metadata": {
        "id": "KGFqMjCaS1Vh"
      },
      "execution_count": null,
      "outputs": []
    },
    {
      "cell_type": "markdown",
      "source": [
        "## <b>Connect to the database</b>\n",
        "\n",
        "<b>Note:</b> Must adjust the path of the database according to where the database is located"
      ],
      "metadata": {
        "id": "0wkqGhm5S064"
      }
    },
    {
      "cell_type": "code",
      "execution_count": null,
      "metadata": {
        "id": "QiH5U7szSg37"
      },
      "outputs": [],
      "source": [
        "# Copy-and-Paste the file path of the database here\n",
        "path_to_db = '/content/drive/MyDrive/a-quick_uploads/enron.db'\n",
        "\n",
        "# Connect to the database using 'sqlite3'\n",
        "conn = sqlite3.connect(path_to_db)\n",
        "\n",
        "# Create a cursor to navigate each rows in the database and query any specific data from the dataset\n",
        "cur = conn.cursor()"
      ]
    },
    {
      "cell_type": "markdown",
      "source": [
        "## <b>Functions</b>\n",
        "\n",
        "* MUST run the following functions before any analysis."
      ],
      "metadata": {
        "id": "tEaQhOkjDLuT"
      }
    },
    {
      "cell_type": "code",
      "source": [
        "def query_db(table_name):\n",
        "    sql='''\n",
        "    SELECT * FROM {}\n",
        "    '''.format(table_name)\n",
        "    return pd.read_sql(sql, conn)\n",
        "\n",
        "def query_db_for_messages():\n",
        "    return query_db('message')\n",
        "\n",
        "def query_db_for_employees():\n",
        "    return query_db('employeelist')\n",
        "\n",
        "def query_db_for_recipients():\n",
        "    return query_db('recipientinfo')"
      ],
      "metadata": {
        "id": "24PcWJ8LDMfX"
      },
      "execution_count": null,
      "outputs": []
    },
    {
      "cell_type": "markdown",
      "source": [
        "# <u>**Analysis 1.**</u> Email Traffic Over Time\n",
        "\n",
        "Aim: Analyze the volume of emails sent over time by counting the number of messages of each employees sent per month."
      ],
      "metadata": {
        "id": "1yk1TLA0TAvQ"
      }
    },
    {
      "cell_type": "markdown",
      "source": [
        "## <b>Figure 1.1: Total number of emails sent per year</b>"
      ],
      "metadata": {
        "id": "LKfHrcxaRrAl"
      }
    },
    {
      "cell_type": "code",
      "source": [
        "'''\n",
        "Note:\n",
        "> Lines 13 to 20 were generated by ChatGPT. More info on Ref.ChatGPT[1]\n",
        "'''\n",
        "\n",
        "messages_df = query_db_for_messages()\n",
        "\n",
        "# Make a new year table to sort the total number of messages by year\n",
        "messages_df['date'] = pd.to_datetime(messages_df['date'], errors='coerce')\n",
        "messages_df['year'] = messages_df['date'].dt.year\n",
        "messages_per_year = messages_df.groupby('year').size()\n",
        "\n",
        "# Plot the total number of messages per year\n",
        "plt.figure(figsize=(15,5))\n",
        "messages_per_year.plot(kind='line', marker='o')\n",
        "plt.xticks(messages_per_year.index, rotation=90)\n",
        "plt.xlabel('Year')\n",
        "plt.ylabel('Number of messages per year')\n",
        "plt.title('Total Number of Messages Per Year')\n",
        "plt.show()"
      ],
      "metadata": {
        "id": "Q7h1SVFyTmV2"
      },
      "execution_count": null,
      "outputs": []
    },
    {
      "cell_type": "markdown",
      "source": [
        "## <b>Figure 1.2: Total number of emails sent per month in the year 2001</b>"
      ],
      "metadata": {
        "id": "Zvt53RS9RuWJ"
      }
    },
    {
      "cell_type": "code",
      "source": [
        "'''\n",
        "Note:\n",
        "  > Lines 8 to 29 were generated by ChatGPT. More info on Ref.ChatGPT[3]\n",
        "'''\n",
        "\n",
        "messages_df = query_db_for_messages()\n",
        "\n",
        "date_df = pd.DataFrame()\n",
        "year_2001_df = pd.DataFrame()\n",
        "\n",
        "messages_df['date'] = pd.to_datetime(messages_df['date'], errors='coerce')\n",
        "\n",
        "year_2001_df = messages_df[(messages_df['date'].dt.year == 2001)]\n",
        "\n",
        "messages_per_month = year_2001_df.groupby(year_2001_df['date'].dt.month).size()\n",
        "\n",
        "# Get the month names corresponding to the month numbers\n",
        "month_names = [calendar.month_name[month_num] for month_num in messages_per_month.index]\n",
        "\n",
        "# Create a line chart showing the messages per month\n",
        "messages_per_month.plot(kind='line', marker='o')\n",
        "plt.title('Number of Messages in Each Month in 2001')\n",
        "plt.xlabel('Month')\n",
        "plt.ylabel('Number of Messages')\n",
        "\n",
        "# Set the x-axis tick labels as the month names\n",
        "plt.xticks(messages_per_month.index, month_names, rotation='vertical')\n",
        "\n",
        "plt.show()"
      ],
      "metadata": {
        "id": "EVAoRgmeRyLb"
      },
      "execution_count": null,
      "outputs": []
    },
    {
      "cell_type": "markdown",
      "source": [
        "## <b>Discussion</b>\n",
        "\n",
        "According to Investopedia (Ref[3]), Enron was exposed for its fraudulent accounting practices in the year 2001 and filed for bankruptcy in December of 2001. Additionally, the outputs shown on figure 1.1 displays that 2001 had the most amount of email communications out of all the other years and as shown in figure 1.2, the months before Enron filed bankruptcy had the most traffic out of the other months in the year 2001. This evidence suggests that the employees of Enron were pressured from the financial loss Enron was experiencing at the time and had to communicate to stakeholders of Enron via email to handle any issues regarding Enron’s downfall."
      ],
      "metadata": {
        "id": "uAYHHle7SAWF"
      }
    },
    {
      "cell_type": "markdown",
      "source": [
        "# <u>**Analysis 2.**</u> Top Senders and Receivers\n",
        "Aim: Identify the most frequent email senders and recipients by aggregating(collecting) the data in the 'Message' and 'RecepientInfo' tables."
      ],
      "metadata": {
        "id": "MTFaWZv6UNHg"
      }
    },
    {
      "cell_type": "markdown",
      "source": [
        "## <b>Top 10 Email <i>Senders</i></b>"
      ],
      "metadata": {
        "id": "MhqnVr6FE8B5"
      }
    },
    {
      "cell_type": "code",
      "source": [
        "'''\n",
        "Lines 9 to 24 are generated by ChatGPT: more info on Ref.ChatGPT[2]\n",
        "'''\n",
        "\n",
        "# Obtain all messages and employees from the database\n",
        "messages_df = query_db_for_messages()\n",
        "employees_df = query_db_for_employees()\n",
        "\n",
        "# Merges the datasets 'messages' and 'employees' to count which messages are whose\n",
        "merged_df = messages_df.merge(employees_df[['Email_id', 'firstName', 'lastName']], left_on='sender', right_on='Email_id', how='left')\n",
        "\n",
        "# Get each employees full name by combining their firstName and lastName\n",
        "merged_df['fullName'] = merged_df['firstName'] + ' ' + merged_df['lastName']\n",
        "\n",
        "# Count the number of messages based on the amount of each unique email addresses\n",
        "employee_counts = merged_df['fullName'].value_counts()\n",
        "top_employees = employee_counts.head(10)\n",
        "\n",
        "# Plot to Bar Chart the employees who have the highest email sent\n",
        "top_employees.sort_values(ascending=True).plot(kind='barh')\n",
        "plt.xlabel('Number of emails')\n",
        "plt.ylabel('Employee Name')\n",
        "plt.title('Top 10 Email Senders')\n",
        "plt.show()"
      ],
      "metadata": {
        "id": "vHfmdm0jUuUe"
      },
      "execution_count": null,
      "outputs": []
    },
    {
      "cell_type": "markdown",
      "source": [
        "## <b>Top 10 Email <i>Receivers</i></b>"
      ],
      "metadata": {
        "id": "p1E85lYFFILs"
      }
    },
    {
      "cell_type": "code",
      "source": [
        "'''\n",
        "Lines 10 to 25 are copied from \"Top 10 Email Senders\" and changed to merge\n",
        "recipients and employees dataset instead of messages and employees\n",
        "'''\n",
        "\n",
        "# Obtain all recipients and employees from the database\n",
        "recipients_df = query_db_for_recipients()\n",
        "employees_df = query_db_for_employees()\n",
        "\n",
        "# Merges the datasets 'messages' and 'recipientinfo' to count how many emails are received by each employees\n",
        "merged_df = recipients_df.merge(employees_df[['Email_id', 'firstName', 'lastName']], left_on='rvalue', right_on='Email_id', how='left')\n",
        "\n",
        "# Get each employees full name by combining their firstName and lastName\n",
        "merged_df['fullName'] = merged_df['firstName'] + ' ' + merged_df['lastName']\n",
        "\n",
        "# Count the number of messages based on the amount of each unique email addresses\n",
        "employee_counts = merged_df['fullName'].value_counts()\n",
        "top_employees = employee_counts.head(10)\n",
        "\n",
        "# Plot to Bar Chart the employees who have the highest email sent\n",
        "top_employees.sort_values(ascending=True).plot(kind='barh')\n",
        "plt.xlabel('Number of emails')\n",
        "plt.ylabel('Employee Name')\n",
        "plt.title('Top 10 Email Receivers')\n",
        "plt.show()"
      ],
      "metadata": {
        "id": "YzgtSUddFH16"
      },
      "execution_count": null,
      "outputs": []
    },
    {
      "cell_type": "markdown",
      "source": [
        "## <b>Discussion</b>\n",
        "\n",
        "Based on the analysis of top email senders, Jeff Dasovich, Vince Kaminski, Kay Mann, Sara Shackleton, Tana Jones, Chris Germany, Matthew Lenhart, Debra Pelingiere, Steven Kean, and Gerald Nemec were 10 Enron employees who have sent the most emails. Relatively, the top 10 email receivers were Jeff Dasovich, Richard Shapiro, Steven Kean, James Steffes, Tana Jones, Sara Shackleton, Mark Taylor, Louise Kitchen, Vince Kaminski, and Mark Guzman. Jeff Dasovich, Vince Kaminski, Tana Jones, Sara Shackleton were the most common names that were found.\n",
        "\n",
        "For the purposes of this assignment. Only the most common names from both the most senders and receivers of emails are studied. Note that the following information about each person was obtained from the dataset (Enron.db) given in the assignment and the program “DB Browser for SQLite” was used to explore messages contained in the email.\n",
        "<br><br>\n",
        "The following are more information about the common people found in both top senders and receivers of email:\n",
        "<br><br>\n",
        "<b>Jeff Dasovich</b>\n",
        "<br>\n",
        "The person who sent the most emails is Jeff Dasovich. Jeff Dasovich was Enron’s governmental affairs executive (Linkurious, Ref-4). The earliest email Dasovich sent was in November of 1999 and was sent to Charry Lising. The message contained information about a cruise that is completely unrelated to Enron. The oldest email Dasovich sent was in January 8, 2002. The email contains a message that was sent by Allen DeBrum and Dasovich forwarded the email to 5 individuals named Steven Harris, Michelle Lokay, Stephanie Miller, Jane Tholt, and James Steffes. The message talks about the objective of California Gas Transmission Pacific Gas and Electric Company (CGTPGEC), which was communicated by Allen DeBrum. DeBrum was the Energy Trading Representative of CGTPGEC.\n",
        "<br><br>\n",
        "<b>Vince Kaminski</b>\n",
        "<br>\n",
        "The 2nd person who sent the most emails is Vince Kaminski. Vince Kaminski was a managing director for Enron, who testified that he disagreed with Enron’s fraudulent activities. Alexei (NYTimes, [Ref-5]) states that Vince Kaminski was Enron’s managing director. Alexei added that Mr. Kaminski dissented to the formation of off-balance-sheet partnerships directed by Mr. Fastow, who was the CFO of Enron. Additionally, Brian (Ref-6) states that Enron hid billions of dollars in losses from failed projects and deals, by using complicated off-balance sheet entities and SPEs. The evidence suggests that Kaminski was not a part of Enron’s fraudulent activities. In summary, the former managing director, Mr. Kaminski wanted to prevent Enron from doing acts of fraudulence.\n",
        "<br><br>\n",
        "<b>Tana Jones</b>\n",
        "<br>\n",
        "More information about Tana Jones is obtained by studying the earliest and latest emails that she sent. The earliest email she sent was in May of 1999 and was sent to an individual named Mark Elliott. The message is considered to be a personal message completely unrelated to Enron as it mentions going to a resort. The oldest email Tana sent was in February of 2002, which was after Enron filed for Bankruptcy. The email was sent to 2 individuals named Sara Shackleton and Robert Bruce. The message contained information about whether Tana and the aforementioned 2 individuals should withdraw from trading on the NYMEX. According to James (Ref[7]), NYMEX is a commodities trading exchange. The message implies that Tana is a commodities trader for Enron.\n",
        "<br><br>\n",
        "<b>Sara Shackleton</b>\n",
        "<br>\n",
        "Sara Shackleton’s earliest and oldest emails are analysed to gain an in-depth understanding of her role in Enron. The earliest email she sent was in May of 1999 and was sent to Patricia Cini. The email contains a message where Sarah asks Patricia if she has sent their form of guarantee, which is a form used for transactions to guarantee an outcome given a condition. The oldest email she sent was in March of 2002 and was sent to Neil Kelly. Based on the contents of the message, Neil and Sara are discussing a global settlement with TXU. As stated on Wikipedia (Ref[8]), TXU is an American retail electricity provider. The message suggests that TXU and Enron had a legal dispute with each other, potentially emerging from Enron’s bankruptcy, and came upon a legal agreement."
      ],
      "metadata": {
        "id": "1oM-eGjtsWbM"
      }
    },
    {
      "cell_type": "markdown",
      "source": [
        "# <u>**Analysis 3.**</u> Subject Keyword Analysis\n",
        "Aim: Extract keywords from email subjects in the 'Message' table and analyze the frequency of words used to understand common topics of discussion."
      ],
      "metadata": {
        "id": "vmXbjkIKUuj9"
      }
    },
    {
      "cell_type": "code",
      "source": [
        "from stopwords import ENGLISH_STOP_WORDS\n",
        "\n",
        "messages_df = query_db_for_messages()\n",
        "\n",
        "# Obtained from Curtin Tutorial Ref[2]\n",
        "def clean(text):\n",
        "    ''' Uses regular expresison to extract english letter and digits from the supplied text. '''\n",
        "    regExp = \"(@[A-Za-z0-9]+)|([^0-9A-Za-z \\t])|(\\w+:\\/\\/\\S+)\"\n",
        "    return ' '.join(re.sub(regExp, \" \", text).split())\n",
        "\n",
        "# Create a new column as a placeholder for the clean subject keywords\n",
        "messages_df['Clean Subject'] = messages_df['subject'].apply(clean)\n",
        "\n",
        "# Add additional words to stopwords that do not have much meaning\n",
        "additional_stop_words = {'New', 'Meeting', 'Update', 'Enron', 'Market', 'Power',\n",
        "    'Caiso', 'Notice', 'Hour', 'HourAhead', 'California', 'FW', 'Date', 'Fwd',\n",
        "    'Letter', 'Deal', 'Draft', 'Report', 'Contract', 'Conference', 'Start',\n",
        "    'Codesite', 'PG E', 'Agreement', 'Request', 'Issue', 'Change', 'PG', 'Revised',\n",
        "    'Presentation', 'Today', 'Question', 'Status', 'EOL', 'Mention', 'Comment',\n",
        "    'Employee', 'E', 'Confirmation', 'Project', 'Reminder'}\n",
        "ENGLISH_STOP_WORDS.update(additional_stop_words)\n",
        "\n",
        "# Create and Display the wordcloud\n",
        "subjects = ' '.join(messages_df['Clean Subject'])\n",
        "wordcloud = WordCloud(width=680, height=480, margin=0, stopwords=ENGLISH_STOP_WORDS).generate(subjects)\n",
        "plt.imshow(wordcloud, interpolation='bilinear')\n",
        "plt.axis('off')\n",
        "plt.margins(x=0, y=0)\n",
        "plt.show()"
      ],
      "metadata": {
        "id": "aOVjT8YRVVe6"
      },
      "execution_count": null,
      "outputs": []
    },
    {
      "cell_type": "markdown",
      "source": [
        "## **Discussion:**\n",
        "\n",
        "Analysis 3 is conducted above to find any keywords in the subjects of all emails to gain an understanding about the fraudulent activities of Enron. Based on the outputs of analysis 3, Ken Lay was one of the main topics discussed in the emails. Below provides more information about the topic.\n",
        "\n",
        "<br>\n",
        "\n",
        "### <b>Ken Lay</b> - Employees demanding Ken Lay to donate\n",
        "Ken Lay is an important subject regarding Enron's unethical business practices as Ken Lay was the CEO and Founder of Enron, which potentially indicates that Ken could have some degree of involvement with Enron's immoral accounting activities and financial scandal. \n",
        "\n",
        "Using the DB Browser for SQLite program and filtering the message.subject table with \"Ken Lay\" as a search word, there was approximately a 1000 emails sent to Mr. Ken Lay, which all stated the same subject \"Demand Ken Lay Donate Proceeds from Enron Stock Sales\". The content of the emails talks about demanding Ken to donate money to Enron Employee Transition and REACH funds. Additionally, the email states that the \"New York Times reported that Ken Lay sold $101 million worth of Enron stock while aggressively urging the company's employees to keep buying it\". Assuming the New York Times' report is true, then this means Ken Lay acted in an unethical manner, thereby making him one of the people responsible for the illicit act.\n",
        "\n",
        "Given the messages of Enron's employees to Ken Lay, Ken Lay is one of the accused people to be involved in Enron's unethical accounting practices."
      ],
      "metadata": {
        "id": "XYrslQh4aCvM"
      }
    },
    {
      "cell_type": "markdown",
      "source": [
        "## Close the connection to the database\n",
        "**Note:** Use when done with the database"
      ],
      "metadata": {
        "id": "H6tQlq1FXHrh"
      }
    },
    {
      "cell_type": "code",
      "source": [
        "conn.close()"
      ],
      "metadata": {
        "id": "T5MUE-2jXIlO"
      },
      "execution_count": null,
      "outputs": []
    },
    {
      "cell_type": "markdown",
      "source": [
        "# Interpretation and Conclusion\n",
        "\n",
        "## Summary\n",
        "\n",
        "This project provides an insight into Enron’s communication patterns and discovers potential topics of interest by conducting three analyses, analysis of email traffic over time, identification of the top email senders and receivers, and analysis of the most frequently used words.\n",
        "\n",
        "Summary of the analysis:\n",
        "* Upon analysing the volume of emails throughout time, it is clear that Enron email communication had more activity in the year of 2001 due to the downfall of the company.\n",
        "* Based on the second analysis of identifying the top senders and receivers of email, most employees have little evidence of their involvement in the fraudulent practices attributed to Enron. \n",
        "* By filtering out meaningless words from the subject attribute of each email, the third analysis has identified that most email subjects had the keyword “Ken Lay”. Using the DB Browser for SQLite program and filtering the message.subject with the word “Ken Lay”, most of the emails are about hundreds of employees demanding Ken Lay to donate fraudulently obtained money to Enron Employee Transition Fund.\n",
        "\n",
        "By performing the three analysis described previously, SQLite databases were clearly understood and extracted the data from the database effectively, used the program “DB Browser for SQLite” to explore the data that is outputted from the analysis, plotted the results of the analysis in the appropriate graph specified in the specification to provide visualisation of the data, and followed the PEP8 programming style naming conventions to apply best practices in programming.\n",
        "\n",
        "\n",
        "## Limitations\n",
        "\n",
        "The assignment expects to choose 3 methods of analysis and the 3 analyses provided in the specification only takes an introductory level understanding about the communication patterns of the Enron Email dataset. Based on these expectations, only a limited level of information can be understood about Enron’s communication patterns. For example, Analysis 2 is about finding the top senders and receivers of email, but the output does not provide an in-depth understanding of who the top senders and receivers are and their relation to the problem of Enron’s fraudulent activities.\n",
        "\n",
        "Analysis 2 can be improved by gaining more understanding about the relationships between employees based on who communicates with who according to the email dataset.\n",
        "\n",
        "\n",
        "## Reflection on the Usability and Effectiveness of Python Notebooks\n",
        "\n",
        "A part of the reason why Python Notebooks are usable is its cross-platform compatibility, which allows different users on different machines to access the application independent of which machine they are using. In my experience, I use Google Colab on a Curtin University machine, which runs on Linux and when I’m at home, I run it on a Windows Machine.\n",
        "\n",
        "When it comes to Data Science projects, Python Notebooks are remarkably useful as they allow users to document the methods and results of their analysis seamlessly. As seen in this Python Notebook, I was able to run programmatic analytical methods and provide my insights about the results of the analysis. Compared to traditionally running Python scripts on a local machine to output a result or a graph, using a Python Notebook makes it less complicated for a client to run a Python script themselves and adds trust since the code can be seen and the output is produced easily.\n"
      ],
      "metadata": {
        "id": "YccvyH-Ot_tj"
      }
    },
    {
      "cell_type": "markdown",
      "source": [
        "# <b>Reference List</b>\n",
        "\n",
        "## <b>References</b>\n",
        "\n",
        "* [1] https://pandas.pydata.org/docs/user_guide/10min.html#plotting\n",
        "* [2] Obtained from WK-9 tutorial of Unit ISYS2001-IBP from Curtin University\n",
        "* [3] Investopedia. https://www.investopedia.com/updates/enron-scandal-summary/#:~:text=However%2C%20the%20entire%20edifice%20was,the%20world%20at%20that%20time\n",
        "* [4] Linkurious. About Jeff Dasovich. https://linkurious.com/blog/investigating-the-enron-email-dataset/\n",
        "* [5] NYTimes. About Vince Kaminski. https://www.nytimes.com/2006/03/15/business/businessspecial3/exenron-officer-says-he-warned-of-shady.html\n",
        "* [6] Brian. About Enron Executives. https://www.investopedia.com/enron-executives-6831970\n",
        "* [7] James. About NYMEX. https://www.investopedia.com/terms/n/nymex.asp#:~:text=NYMEX%20is%20a%20commodities%20trading,%2C%20energy%2C%20and%20agricultural%20commodities.\n",
        "* [8] Wikipedia. About Wikipedia. https://en.wikipedia.org/wiki/TXU_Energy#:~:text=In%201984%2C%20DP%26L%2C%20TESCO%2C,Australia%2C%20Europe%20and%20North%20America.\n",
        "\n",
        "### <b>ChatGPT</b>\n",
        "* [1]\n",
        "  * Purpose: To plot the frequency of messages per month to a line chart\n",
        "  * Prompt: how can I use pandas package in python to plot the frequency of messages per month in a year, given the messages data are in a dataframe.\n",
        "  * Note: A couple of tweaks were adjusted to the prompt, in order to get a correct response. Like for example the total number of messages must be sorted by year.\n",
        "* [2]\n",
        "  * Purpose: To find which employees have sent the most emails and plot that data to a bar chart.\n",
        "  * Prompt: Hi ChatGPT, you are awesome! I am currently using Pandas package in Python and I want to know the top senders of email. I have a dataframe called 'messages_df' that contains the columns ['sender', 'subject']. The 'sender' column contains each employee's email address. I have another dataframe called 'employees_df' that contains the columns ['firstName', 'lastName', 'Email_id', 'Email2', 'Email3', 'EMail4']. There is in fact a typo in 'EMail4' where 'M' is capital but keep in mind that column is still spelt 'EMail4'. Now all of the email columns contain all employee's email address. Given information of messages_df and employees_df, I want to join them together to create a new dataframe based on messages_df's sender column to either any employees_df's 'Email_id'/'Email2'/'Email3'/'EMail4'.\n",
        "* [3]\n",
        "  * Purpose: To plot the total number of messages per month in the year 2001\n",
        "  * Prompt: I am using pandas and matplotlib packages in Python. I have \"messages_df\" which is a dataframe that contains all messages. I want to plot the total number of messages per month in the year 2001.\n",
        "  * Prompt Tweaks:\n",
        "    * I want to show the name of the month instead of the number of the month and sort the months chronologically."
      ],
      "metadata": {
        "id": "6s1mKP3YWlbv"
      }
    }
  ]
}